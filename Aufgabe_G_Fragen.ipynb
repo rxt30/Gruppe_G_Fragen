{
 "cells": [
  {
   "cell_type": "markdown",
   "metadata": {},
   "source": [
    "# Aufgabe-G-WiederholteFragen"
   ]
  },
  {
   "cell_type": "markdown",
   "metadata": {},
   "source": [
    "## Allgemeines\n",
    "\n",
    "Eine allgemeine Beschreibung der Laboraufgaben inklusive des Vorgehens, den Bewertungsrichtlinien und der Abgabe finden Sie  <a href=\"ML-allgemein.ipynb\">hier</a>"
   ]
  },
  {
   "cell_type": "markdown",
   "metadata": {},
   "source": [
    "## Datenquelle\n",
    "\n",
    "\n",
    "* Laden Sie ihre Daten von http://141.72.190.207/ml_lab/G_fragen herunter\n",
    "    * Die Daten sind geschützt. \n",
    "        * Sie müssen evtl. in einem Netzwerk der DHBW (z.B. WLAN, VPN, ...) angemeldet sein. \n",
    "        * Sie können sich auf der Webseite mit dem Benutzernamen dhbw und dem Zugangsnamen ml_2021 anmelden. \n",
    "* Die Daten sind in einem anwendungsspezifischen Format gespeichert.\n",
    "    * Sie finden evtl. Informationen über die Daten in einer \"README\" Datei. \n",
    "    * Finden Sie keine solche Datei sind die Daten selbst erklärend. \n",
    "    \n",
    "    \n",
    "\n"
   ]
  },
  {
   "cell_type": "markdown",
   "metadata": {},
   "source": [
    "## Aufgabe"
   ]
  },
  {
   "cell_type": "markdown",
   "metadata": {},
   "source": [
    "Die Datensammlung enthält Fragen aus einem Forum. Es sind Paare aus Fragen gleichen Inhalts geboten.\n",
    "\n",
    "Erstellen Sie ein tiefes Neuronales Netzwerk, dass dem Nutzer schon bei der Eingabe einer neuen Frage gleich ähnliche Fragen anbietet. \n",
    "* Je mehr Text der Benutzer eingibt, desto präziser sollen die ähnlichen Fragen sein! \n",
    "\n",
    "\n"
   ]
  },
  {
   "cell_type": "markdown",
   "metadata": {},
   "source": [
    "# Lösung\n",
    "\n",
    "* Beginnen Sie hier mit Ihrer Dokumentation und Implementierung! "
   ]
  },
  {
   "cell_type": "code",
   "execution_count": 3,
   "metadata": {},
   "outputs": [],
   "source": [
    "# Fügen Sie ihren Code hier ein!"
   ]
  },
  {
   "cell_type": "markdown",
   "metadata": {
    "pycharm": {
     "name": "#%% md\n"
    }
   },
   "source": [
    "Vorgehen:\n",
    "- Finden von unnötigen Wörtern (in, wie usw.)\n",
    "- Extrahieren der \"wertvollen\" Informationswerten\n",
    "- Einteilen der Fragen in Kategorien und Lernen KI anhand der gelieferten Paare\n",
    "- Überprüfung anhand der Testfragen\n",
    "- Erstellung einer Eingabemaske, mit Testfragen zur überprüfung der KI"
   ]
  },
  {
   "cell_type": "markdown",
   "metadata": {},
   "source": [
    "# Einlesen der Daten"
   ]
  },
  {
   "cell_type": "markdown",
   "source": [
    "## Einlesen der Trainingsdaten"
   ],
   "metadata": {
    "collapsed": false
   }
  },
  {
   "cell_type": "code",
   "execution_count": 4,
   "metadata": {
    "pycharm": {
     "name": "#%%\n"
    }
   },
   "outputs": [
    {
     "data": {
      "text/plain": "                                           question1  \\\n0  What is the step by step guide to invest in sh...   \n1  What is the story of Kohinoor (Koh-i-Noor) Dia...   \n2  How can I increase the speed of my internet co...   \n3  Why am I mentally very lonely? How can I solve...   \n4  Which one dissolve in water quikly sugar, salt...   \n\n                                           question2  is_duplicate  \n0  What is the step by step guide to invest in sh...             0  \n1  What would happen if the Indian government sto...             0  \n2  How can Internet speed be increased by hacking...             0  \n3  Find the remainder when [math]23^{24}[/math] i...             0  \n4            Which fish would survive in salt water?             0  ",
      "text/html": "<div>\n<style scoped>\n    .dataframe tbody tr th:only-of-type {\n        vertical-align: middle;\n    }\n\n    .dataframe tbody tr th {\n        vertical-align: top;\n    }\n\n    .dataframe thead th {\n        text-align: right;\n    }\n</style>\n<table border=\"1\" class=\"dataframe\">\n  <thead>\n    <tr style=\"text-align: right;\">\n      <th></th>\n      <th>question1</th>\n      <th>question2</th>\n      <th>is_duplicate</th>\n    </tr>\n  </thead>\n  <tbody>\n    <tr>\n      <th>0</th>\n      <td>What is the step by step guide to invest in sh...</td>\n      <td>What is the step by step guide to invest in sh...</td>\n      <td>0</td>\n    </tr>\n    <tr>\n      <th>1</th>\n      <td>What is the story of Kohinoor (Koh-i-Noor) Dia...</td>\n      <td>What would happen if the Indian government sto...</td>\n      <td>0</td>\n    </tr>\n    <tr>\n      <th>2</th>\n      <td>How can I increase the speed of my internet co...</td>\n      <td>How can Internet speed be increased by hacking...</td>\n      <td>0</td>\n    </tr>\n    <tr>\n      <th>3</th>\n      <td>Why am I mentally very lonely? How can I solve...</td>\n      <td>Find the remainder when [math]23^{24}[/math] i...</td>\n      <td>0</td>\n    </tr>\n    <tr>\n      <th>4</th>\n      <td>Which one dissolve in water quikly sugar, salt...</td>\n      <td>Which fish would survive in salt water?</td>\n      <td>0</td>\n    </tr>\n  </tbody>\n</table>\n</div>"
     },
     "execution_count": 2,
     "metadata": {},
     "output_type": "execute_result"
    },
    {
     "data": {
      "text/plain": "                                           question1  \\\n0  What is the step by step guide to invest in sh...   \n1  What is the story of Kohinoor (Koh-i-Noor) Dia...   \n2  How can I increase the speed of my internet co...   \n3  Why am I mentally very lonely? How can I solve...   \n4  Which one dissolve in water quikly sugar, salt...   \n\n                                           question2  is_duplicate  \n0  What is the step by step guide to invest in sh...             0  \n1  What would happen if the Indian government sto...             0  \n2  How can Internet speed be increased by hacking...             0  \n3  Find the remainder when [math]23^{24}[/math] i...             0  \n4            Which fish would survive in salt water?             0  ",
      "text/html": "<div>\n<style scoped>\n    .dataframe tbody tr th:only-of-type {\n        vertical-align: middle;\n    }\n\n    .dataframe tbody tr th {\n        vertical-align: top;\n    }\n\n    .dataframe thead th {\n        text-align: right;\n    }\n</style>\n<table border=\"1\" class=\"dataframe\">\n  <thead>\n    <tr style=\"text-align: right;\">\n      <th></th>\n      <th>question1</th>\n      <th>question2</th>\n      <th>is_duplicate</th>\n    </tr>\n  </thead>\n  <tbody>\n    <tr>\n      <th>0</th>\n      <td>What is the step by step guide to invest in sh...</td>\n      <td>What is the step by step guide to invest in sh...</td>\n      <td>0</td>\n    </tr>\n    <tr>\n      <th>1</th>\n      <td>What is the story of Kohinoor (Koh-i-Noor) Dia...</td>\n      <td>What would happen if the Indian government sto...</td>\n      <td>0</td>\n    </tr>\n    <tr>\n      <th>2</th>\n      <td>How can I increase the speed of my internet co...</td>\n      <td>How can Internet speed be increased by hacking...</td>\n      <td>0</td>\n    </tr>\n    <tr>\n      <th>3</th>\n      <td>Why am I mentally very lonely? How can I solve...</td>\n      <td>Find the remainder when [math]23^{24}[/math] i...</td>\n      <td>0</td>\n    </tr>\n    <tr>\n      <th>4</th>\n      <td>Which one dissolve in water quikly sugar, salt...</td>\n      <td>Which fish would survive in salt water?</td>\n      <td>0</td>\n    </tr>\n  </tbody>\n</table>\n</div>"
     },
     "execution_count": 4,
     "metadata": {},
     "output_type": "execute_result"
    }
   ],
   "source": [
    "import numpy as np\n",
    "import pandas as pd\n",
    "import tensorflow as tf\n",
    "import tensorflow_datasets as tfds\n",
    "from tensorflow.keras import layers\n",
    "\n",
    "train_data = pd.read_csv(\n",
    "    \"./fragen/train.csv\",\n",
    "    usecols= ['question1', 'question2', 'is_duplicate'],\n",
    "    encoding='utf-8'\n",
    ")\n",
    "\n",
    "train_data.dropna(inplace=True)\n",
    "train_data.head()\n",
    "#for i in range(0, len(train_data)):\n",
    "#    if type(train_data.at[i, 'question1']) == float or type(train_data.at[i, 'question2']) == float:\n",
    "#        print(train_data.at[i, 'question2'])\n",
    "#        print(train_data.at[i, 'question1'])\n",
    "#        print(i)"
   ]
  },
  {
   "cell_type": "markdown",
   "metadata": {
    "pycharm": {
     "name": "#%% md\n"
    }
   },
   "source": [
    "## Einlesen der Testdaten"
   ]
  },
  {
   "cell_type": "code",
   "execution_count": 5,
   "outputs": [
    {
     "name": "stderr",
     "output_type": "stream",
     "text": [
      "/tmp/ipykernel_144957/1675913220.py:1: DtypeWarning: Columns (0) have mixed types. Specify dtype option on import or set low_memory=False.\n",
      "  test_data = pd.read_csv(\n"
     ]
    },
    {
     "data": {
      "text/plain": "                                                 question1  \\\ntest_id                                                      \n0        How does the Surface Pro himself 4 compare wit...   \n1        Should I have a hair transplant at age 24? How...   \n2        What but is the best way to send money from Ch...   \n3                              Which food not emulsifiers?   \n4                         How \"aberystwyth\" start reading?   \n\n                                                 question2  \ntest_id                                                     \n0        Why did Microsoft choose core m3 and not core ...  \n1              How much cost does hair transplant require?  \n2                            What you send money to China?  \n3                                        What foods fibre?  \n4                           How their can I start reading?  ",
      "text/html": "<div>\n<style scoped>\n    .dataframe tbody tr th:only-of-type {\n        vertical-align: middle;\n    }\n\n    .dataframe tbody tr th {\n        vertical-align: top;\n    }\n\n    .dataframe thead th {\n        text-align: right;\n    }\n</style>\n<table border=\"1\" class=\"dataframe\">\n  <thead>\n    <tr style=\"text-align: right;\">\n      <th></th>\n      <th>question1</th>\n      <th>question2</th>\n    </tr>\n    <tr>\n      <th>test_id</th>\n      <th></th>\n      <th></th>\n    </tr>\n  </thead>\n  <tbody>\n    <tr>\n      <th>0</th>\n      <td>How does the Surface Pro himself 4 compare wit...</td>\n      <td>Why did Microsoft choose core m3 and not core ...</td>\n    </tr>\n    <tr>\n      <th>1</th>\n      <td>Should I have a hair transplant at age 24? How...</td>\n      <td>How much cost does hair transplant require?</td>\n    </tr>\n    <tr>\n      <th>2</th>\n      <td>What but is the best way to send money from Ch...</td>\n      <td>What you send money to China?</td>\n    </tr>\n    <tr>\n      <th>3</th>\n      <td>Which food not emulsifiers?</td>\n      <td>What foods fibre?</td>\n    </tr>\n    <tr>\n      <th>4</th>\n      <td>How \"aberystwyth\" start reading?</td>\n      <td>How their can I start reading?</td>\n    </tr>\n  </tbody>\n</table>\n</div>"
     },
     "execution_count": 5,
     "metadata": {},
     "output_type": "execute_result"
    }
   ],
   "source": [
    "test_data = pd.read_csv(\n",
    "    \"./fragen/test.csv\",\n",
    "    index_col=\"test_id\"\n",
    ")\n",
    "\n",
    "test_data.head()\n"
   ],
   "metadata": {
    "collapsed": false,
    "pycharm": {
     "name": "#%%\n"
    }
   }
  },
  {
   "cell_type": "markdown",
   "source": [
    "# Text preprocessing\n",
    "According to the tensorflow website"
   ],
   "metadata": {
    "collapsed": false
   }
  },
  {
   "cell_type": "code",
   "execution_count": 6,
   "outputs": [
    {
     "name": "stdout",
     "output_type": "stream",
     "text": [
      "(<tf.Tensor: shape=(2,), dtype=string, numpy=\n",
      "array([b'What is the step by step guide to invest in share market in india?',\n",
      "       b'What is the step by step guide to invest in share market?'],\n",
      "      dtype=object)>, <tf.Tensor: shape=(), dtype=int64, numpy=0>)\n",
      "(<tf.Tensor: shape=(2,), dtype=string, numpy=\n",
      "array([b'What is the story of Kohinoor (Koh-i-Noor) Diamond?',\n",
      "       b'What would happen if the Indian government stole the Kohinoor (Koh-i-Noor) diamond back?'],\n",
      "      dtype=object)>, <tf.Tensor: shape=(), dtype=int64, numpy=0>)\n",
      "(<tf.Tensor: shape=(2,), dtype=string, numpy=\n",
      "array([b'How can I increase the speed of my internet connection while using a VPN?',\n",
      "       b'How can Internet speed be increased by hacking through DNS?'],\n",
      "      dtype=object)>, <tf.Tensor: shape=(), dtype=int64, numpy=0>)\n"
     ]
    },
    {
     "name": "stderr",
     "output_type": "stream",
     "text": [
      "2022-01-31 20:22:09.477307: W tensorflow/stream_executor/platform/default/dso_loader.cc:64] Could not load dynamic library 'libcuda.so.1'; dlerror: libcuda.so.1: cannot open shared object file: No such file or directory\n",
      "2022-01-31 20:22:09.477332: W tensorflow/stream_executor/cuda/cuda_driver.cc:269] failed call to cuInit: UNKNOWN ERROR (303)\n",
      "2022-01-31 20:22:09.477347: I tensorflow/stream_executor/cuda/cuda_diagnostics.cc:156] kernel driver does not appear to be running on this host (maxhp14s): /proc/driver/nvidia/version does not exist\n",
      "2022-01-31 20:22:09.477928: I tensorflow/core/platform/cpu_feature_guard.cc:151] This TensorFlow binary is optimized with oneAPI Deep Neural Network Library (oneDNN) to use the following CPU instructions in performance-critical operations:  AVX2 FMA\n",
      "To enable them in other operations, rebuild TensorFlow with the appropriate compiler flags.\n"
     ]
    }
   ],
   "source": [
    "target = train_data.pop('is_duplicate')\n",
    "\n",
    "ds_raw = tf.data.Dataset.from_tensor_slices((train_data.values, target.values))\n",
    "\n",
    "for ex in ds_raw.take(3):\n",
    "    print(ex)"
   ],
   "metadata": {
    "collapsed": false,
    "pycharm": {
     "name": "#%%\n"
    }
   }
  },
  {
   "cell_type": "markdown",
   "source": [
    "## Unterteilung in Trainings, Validierungs und Testdaten\n"
   ],
   "metadata": {
    "collapsed": false
   }
  },
  {
   "cell_type": "code",
   "execution_count": 7,
   "outputs": [],
   "source": [
    "tf.random.set_seed(1)\n",
    "\n",
    "ds_length = len(ds_raw)\n",
    "ds_raw_train = ds_raw.take(round(ds_length*0.8)-1)\n",
    "ds_raw_train_valid = ds_raw.take(round(ds_length*0.2)-1)"
   ],
   "metadata": {
    "collapsed": false,
    "pycharm": {
     "name": "#%%\n"
    }
   }
  },
  {
   "cell_type": "markdown",
   "source": [
    "## Create dictionary"
   ],
   "metadata": {
    "collapsed": false
   }
  },
  {
   "cell_type": "code",
   "execution_count": 8,
   "outputs": [
    {
     "name": "stdout",
     "output_type": "stream",
     "text": [
      "Größe des Wörterbuches:  99353\n"
     ]
    }
   ],
   "source": [
    "from collections import Counter\n",
    "\n",
    "tokenizer = tfds.deprecated.text.Tokenizer()\n",
    "token_counts = Counter()\n",
    "\n",
    "for example in ds_raw_train:\n",
    "    for i in range(0,2):\n",
    "        tokens = tokenizer.tokenize(example[0].numpy()[i])\n",
    "        token_counts.update(tokens)\n",
    "\n",
    "print(\"Größe des Wörterbuches: \", len(token_counts))"
   ],
   "metadata": {
    "collapsed": false,
    "pycharm": {
     "name": "#%%\n"
    }
   }
  },
  {
   "cell_type": "markdown",
   "source": [
    "## Create a encoder and map the arrays"
   ],
   "metadata": {
    "collapsed": false,
    "pycharm": {
     "name": "#%% md\n"
    }
   }
  },
  {
   "cell_type": "code",
   "execution_count": 14,
   "outputs": [
    {
     "name": "stdout",
     "output_type": "stream",
     "text": [
      "tf.Tensor(\n",
      "[b'What is the step by step guide to invest in share market in india?'\n",
      " b'What is the step by step guide to invest in share market?'], shape=(2,), dtype=string)\n",
      "(<tf.Tensor: shape=(14,), dtype=int64, numpy=array([ 1,  2,  3,  4,  5,  4,  6,  7,  8,  9, 10, 11,  9, 12])>, <tf.Tensor: shape=(12,), dtype=int64, numpy=array([ 1,  2,  3,  4,  5,  4,  6,  7,  8,  9, 10, 11])>, <tf.Tensor: shape=(), dtype=int64, numpy=0>)\n",
      "tf.Tensor(\n",
      "[b'What is the story of Kohinoor (Koh-i-Noor) Diamond?'\n",
      " b'What would happen if the Indian government stole the Kohinoor (Koh-i-Noor) diamond back?'], shape=(2,), dtype=string)\n",
      "(<tf.Tensor: shape=(10,), dtype=int64, numpy=array([ 1,  2,  3, 13, 14, 15, 16, 17, 18, 19])>, <tf.Tensor: shape=(15,), dtype=int64, numpy=array([ 1, 20, 21, 22,  3, 23, 24, 25,  3, 15, 16, 17, 18, 26, 27])>, <tf.Tensor: shape=(), dtype=int64, numpy=0>)\n",
      "tf.Tensor(\n",
      "[b'How can I increase the speed of my internet connection while using a VPN?'\n",
      " b'How can Internet speed be increased by hacking through DNS?'], shape=(2,), dtype=string)\n",
      "(<tf.Tensor: shape=(14,), dtype=int64, numpy=array([28, 29, 30, 31,  3, 32, 14, 33, 34, 35, 36, 37, 38, 39])>, <tf.Tensor: shape=(10,), dtype=int64, numpy=array([28, 29, 40, 32, 41, 42,  5, 43, 44, 45])>, <tf.Tensor: shape=(), dtype=int64, numpy=0>)\n"
     ]
    }
   ],
   "source": [
    "encoder = tfds.deprecated.text.TokenTextEncoder(token_counts)\n",
    "encoder.encode('This is a example')\n",
    "\n",
    "def encode(text_tensor, label):\n",
    "    print(text_tensor)\n",
    "    text0 = text_tensor.numpy()[0]\n",
    "    text1 = text_tensor.numpy()[1]\n",
    "    return encoder.encode(text0), encoder.encode(text1), label\n",
    "\n",
    "def encode_map_fn(text, label):\n",
    "    return tf.py_function(encode,\n",
    "                          inp=[text, label],\n",
    "                          Tout=[tf.int64, tf.int64, tf.int64])\n",
    "\n",
    "ds_train = ds_raw_train.map(encode_map_fn)\n",
    "ds_train_valid = ds_raw_train_valid.map(encode_map_fn)\n",
    "for ex in ds_train.take(3):\n",
    "    print(ex)"
   ],
   "metadata": {
    "collapsed": false,
    "pycharm": {
     "name": "#%%\n"
    }
   }
  },
  {
   "cell_type": "markdown",
   "source": [],
   "metadata": {
    "collapsed": false
   }
  }
 ],
 "metadata": {
  "kernelspec": {
   "name": "python3",
   "language": "python",
   "display_name": "Python 3 (ipykernel)"
  },
  "language_info": {
   "codemirror_mode": {
    "name": "ipython",
    "version": 3
   },
   "file_extension": ".py",
   "mimetype": "text/x-python",
   "name": "python",
   "nbconvert_exporter": "python",
   "pygments_lexer": "ipython3",
   "version": "3.10.2"
  }
 },
 "nbformat": 4,
 "nbformat_minor": 4
}