{
 "cells": [
  {
   "cell_type": "markdown",
   "source": [
    "# Aufgabenstellung\n",
    "\n",
    "Es soll ein Model erstellt werden, welches einem Benutzer bei Eingabe einer Frage ähnliche, bereits vorhanden Fragen vorstellt.\n",
    "Je präsizer der Bentuzer die Frage formuliert, umso präziser sollen auch die Vorhersagen sein."
   ],
   "metadata": {
    "collapsed": false
   }
  },
  {
   "cell_type": "markdown",
   "source": [
    "# Lösung\n",
    "## Betrachtung des Datensatzes\n",
    "Der Datensatz beinhaltet neben den README-Dateien 3 CSV-Dateien\n",
    "\n",
    "### Trainings-Datensatz\n",
    "Der Trainingsdatensatz ist in der Datei 'training.csv' enthalten.\n",
    "Der Datensatz enthält insgesamt 5 Attribute pro Datum.\n",
    "Eine allgemeine 'id', eine 'qid1' & 'qid2' für die jeweilige Frage.\n",
    "Schlussendlich folgen die beiden Fragen sowie die Spalte 'is_duplicate', bei welcher zwei Fragen mit gleicher Intention mit dem Label 1 markiert sind."
   ],
   "metadata": {
    "collapsed": false
   }
  },
  {
   "cell_type": "markdown",
   "source": [
    "#### Aussortieren nicht benötigter Parameter\n",
    "\n",
    "Die Attribute 'question1', 'question2' und 'is_duplicate' werden auf jedenfall benötigt, da in dieser die Fragen sowie das Klassiefizierungslabel enthalten sind\n",
    "\n",
    "Im zu trainierenden Modell soll rein der textliche Inhalt der Fragen von Bedeutung sein. Aus diesem Grund werden beim Einlesen der Daten die Attribute 'id', 'qid1' & 'qid2' nicht mit geladen.\n",
    "\n",
    "#### Vorverarbeitung der Daten\n",
    "Im geladenen Dataframe werden die Datensätze entfernet, welche in einer der Attribute ein NaN-Value besitzen. Dies ist nötig, da aus diesen Datensätzen keinen sinnvollen Rückschlüsse gezogen werden können.\n",
    "\n",
    "Außerdem werden Duplikate entfernt, da ein Training des selben Datensatzen nicht zur Verbesserung des Modelles beiträgt.\n"
   ],
   "metadata": {
    "collapsed": false,
    "pycharm": {
     "name": "#%% md\n"
    }
   }
  },
  {
   "cell_type": "code",
   "execution_count": 1,
   "outputs": [
    {
     "data": {
      "text/plain": "                                           question1  \\\n0  What is the step by step guide to invest in sh...   \n1  What is the story of Kohinoor (Koh-i-Noor) Dia...   \n2  How can I increase the speed of my internet co...   \n3  Why am I mentally very lonely? How can I solve...   \n4  Which one dissolve in water quikly sugar, salt...   \n\n                                           question2  is_duplicate  \n0  What is the step by step guide to invest in sh...             0  \n1  What would happen if the Indian government sto...             0  \n2  How can Internet speed be increased by hacking...             0  \n3  Find the remainder when [math]23^{24}[/math] i...             0  \n4            Which fish would survive in salt water?             0  ",
      "text/html": "<div>\n<style scoped>\n    .dataframe tbody tr th:only-of-type {\n        vertical-align: middle;\n    }\n\n    .dataframe tbody tr th {\n        vertical-align: top;\n    }\n\n    .dataframe thead th {\n        text-align: right;\n    }\n</style>\n<table border=\"1\" class=\"dataframe\">\n  <thead>\n    <tr style=\"text-align: right;\">\n      <th></th>\n      <th>question1</th>\n      <th>question2</th>\n      <th>is_duplicate</th>\n    </tr>\n  </thead>\n  <tbody>\n    <tr>\n      <th>0</th>\n      <td>What is the step by step guide to invest in sh...</td>\n      <td>What is the step by step guide to invest in sh...</td>\n      <td>0</td>\n    </tr>\n    <tr>\n      <th>1</th>\n      <td>What is the story of Kohinoor (Koh-i-Noor) Dia...</td>\n      <td>What would happen if the Indian government sto...</td>\n      <td>0</td>\n    </tr>\n    <tr>\n      <th>2</th>\n      <td>How can I increase the speed of my internet co...</td>\n      <td>How can Internet speed be increased by hacking...</td>\n      <td>0</td>\n    </tr>\n    <tr>\n      <th>3</th>\n      <td>Why am I mentally very lonely? How can I solve...</td>\n      <td>Find the remainder when [math]23^{24}[/math] i...</td>\n      <td>0</td>\n    </tr>\n    <tr>\n      <th>4</th>\n      <td>Which one dissolve in water quikly sugar, salt...</td>\n      <td>Which fish would survive in salt water?</td>\n      <td>0</td>\n    </tr>\n  </tbody>\n</table>\n</div>"
     },
     "execution_count": 1,
     "metadata": {},
     "output_type": "execute_result"
    }
   ],
   "source": [
    "# https://www.kaggle.com/nkaps98/quora-question-pairs-glove-lstm\n",
    "import json\n",
    "\n",
    "import numpy as np\n",
    "import pandas as pd\n",
    "import matplotlib.pyplot as plt\n",
    "import tensorflow as tf\n",
    "import keras_tuner as kt\n",
    "from keras.preprocessing.text import Tokenizer\n",
    "from keras.preprocessing.sequence import pad_sequences\n",
    "from keras.layers import Embedding, Multiply, Flatten, Dropout, Dense, LSTM, SimpleRNN, Bidirectional, GRU\n",
    "from sklearn.model_selection import train_test_split\n",
    "plt.rcParams[\"figure.figsize\"] = 15,15\n",
    "tf.random.set_seed(35)\n",
    "\n",
    "df_train = pd.read_csv(\n",
    "    \"./fragen/train.csv\",\n",
    "    usecols = ['question1', 'question2', 'is_duplicate'],\n",
    "    encoding = 'utf-8'\n",
    ")\n",
    "\n",
    "df_train.dropna(inplace=True)\n",
    "df_train.head()"
   ],
   "metadata": {
    "collapsed": false,
    "pycharm": {
     "name": "#%%\n"
    }
   }
  },
  {
   "cell_type": "markdown",
   "source": [
    "Damit der Text präziser verarbeitet werden kann, werden außerdem alle Buchstaben in lowercase umgewandelt"
   ],
   "metadata": {
    "collapsed": false
   }
  },
  {
   "cell_type": "code",
   "execution_count": 2,
   "outputs": [],
   "source": [
    "df_train = df_train.applymap(lambda s: s.lower() if type(s) == str else s)"
   ],
   "metadata": {
    "collapsed": false,
    "pycharm": {
     "name": "#%%\n"
    }
   }
  },
  {
   "cell_type": "markdown",
   "source": [
    "### Visualisieren der Trainingsdaten\n",
    "#### Verteilung der Labels in den Trainingsdaten\n",
    "\n",
    "Im folgenden wird die Verteilung der Label in den Trainingsdaten mit Hilfe eines Balkendiagrammes visualisiert."
   ],
   "metadata": {
    "collapsed": false
   }
  },
  {
   "cell_type": "code",
   "execution_count": 3,
   "outputs": [
    {
     "data": {
      "text/plain": "Text(0.5, 1.0, 'Number of elements found in dataset')"
     },
     "execution_count": 3,
     "metadata": {},
     "output_type": "execute_result"
    },
    {
     "data": {
      "text/plain": "<Figure size 1080x1080 with 1 Axes>",
      "image/png": "[encoded data removed]"
     },
     "metadata": {
      "needs_background": "light"
     },
     "output_type": "display_data"
    }
   ],
   "source": [
    "fig, ax = plt.subplots()\n",
    "label_dist = df_train.is_duplicate.value_counts()\n",
    "\n",
    "ax.bar([0,1],label_dist)\n",
    "ax.set_xticks([0,1], labels=[0,1])\n",
    "ax.set_title('Number of elements found in dataset')"
   ],
   "metadata": {
    "collapsed": false,
    "pycharm": {
     "name": "#%%\n"
    }
   }
  },
  {
   "cell_type": "markdown",
   "source": [
    "#### Anzahl der Duplikate"
   ],
   "metadata": {
    "collapsed": false
   }
  },
  {
   "cell_type": "code",
   "execution_count": 4,
   "outputs": [
    {
     "name": "stdout",
     "output_type": "stream",
     "text": [
      "341\n"
     ]
    },
    {
     "data": {
      "text/plain": "                                                question1  \\\n0                  can i pay with a debit card on paypal?   \n1         does new york state have a flagship university?   \n2        failures haunt me all the time.how do i cope up?   \n3        how do i make the time lapse images using an ...   \n4        i didn't file a police report for a car accid...   \n...                                                   ...   \n403941      你说我说中文会不会有人看得懂. what does this sentence mean?   \n403942                                格局how to translate?   \n403943                                格局how to translate?   \n403944  黎权锋, help me make up an english name, thank yo...   \n403945         what do you usually do with the internet?   \n\n                                                question2  is_duplicate  size  \n0       can you transfer paypal funds onto a debit car...             0     1  \n1                    how can the new york state be fixed?             0     1  \n2               what can help me cope up with my failure?             1     1  \n3                   how do i make time-lapse photography?             0     1  \n4       why don't i get the money i paid for a year wo...             0     1  \n...                                                   ...           ...   ...  \n403941                      what does this sentence mean?             0     1  \n403942                         how do you translate this?             0     1  \n403943                     how would you translate \"一百回\"?             0     1  \n403944  would you want to help me come up with a name ...             0     1  \n403945          what do you usually do with the internet?             1     1  \n\n[403946 rows x 4 columns]",
      "text/html": "<div>\n<style scoped>\n    .dataframe tbody tr th:only-of-type {\n        vertical-align: middle;\n    }\n\n    .dataframe tbody tr th {\n        vertical-align: top;\n    }\n\n    .dataframe thead th {\n        text-align: right;\n    }\n</style>\n<table border=\"1\" class=\"dataframe\">\n  <thead>\n    <tr style=\"text-align: right;\">\n      <th></th>\n      <th>question1</th>\n      <th>question2</th>\n      <th>is_duplicate</th>\n      <th>size</th>\n    </tr>\n  </thead>\n  <tbody>\n    <tr>\n      <th>0</th>\n      <td>can i pay with a debit card on paypal?</td>\n      <td>can you transfer paypal funds onto a debit car...</td>\n      <td>0</td>\n      <td>1</td>\n    </tr>\n    <tr>\n      <th>1</th>\n      <td>does new york state have a flagship university?</td>\n      <td>how can the new york state be fixed?</td>\n      <td>0</td>\n      <td>1</td>\n    </tr>\n    <tr>\n      <th>2</th>\n      <td>failures haunt me all the time.how do i cope up?</td>\n      <td>what can help me cope up with my failure?</td>\n      <td>1</td>\n      <td>1</td>\n    </tr>\n    <tr>\n      <th>3</th>\n      <td>how do i make the time lapse images using an ...</td>\n      <td>how do i make time-lapse photography?</td>\n      <td>0</td>\n      <td>1</td>\n    </tr>\n    <tr>\n      <th>4</th>\n      <td>i didn't file a police report for a car accid...</td>\n      <td>why don't i get the money i paid for a year wo...</td>\n      <td>0</td>\n      <td>1</td>\n    </tr>\n    <tr>\n      <th>...</th>\n      <td>...</td>\n      <td>...</td>\n      <td>...</td>\n      <td>...</td>\n    </tr>\n    <tr>\n      <th>403941</th>\n      <td>你说我说中文会不会有人看得懂. what does this sentence mean?</td>\n      <td>what does this sentence mean?</td>\n      <td>0</td>\n      <td>1</td>\n    </tr>\n    <tr>\n      <th>403942</th>\n      <td>格局how to translate?</td>\n      <td>how do you translate this?</td>\n      <td>0</td>\n      <td>1</td>\n    </tr>\n    <tr>\n      <th>403943</th>\n      <td>格局how to translate?</td>\n      <td>how would you translate \"一百回\"?</td>\n      <td>0</td>\n      <td>1</td>\n    </tr>\n    <tr>\n      <th>403944</th>\n      <td>黎权锋, help me make up an english name, thank yo...</td>\n      <td>would you want to help me come up with a name ...</td>\n      <td>0</td>\n      <td>1</td>\n    </tr>\n    <tr>\n      <th>403945</th>\n      <td>what do you usually do with the internet?</td>\n      <td>what do you usually do with the internet?</td>\n      <td>1</td>\n      <td>1</td>\n    </tr>\n  </tbody>\n</table>\n<p>403946 rows × 4 columns</p>\n</div>"
     },
     "execution_count": 4,
     "metadata": {},
     "output_type": "execute_result"
    }
   ],
   "source": [
    "print(df_train.duplicated(keep='first').sum())\n",
    "df_train.groupby(df_train.columns.tolist(),as_index=False).size()"
   ],
   "metadata": {
    "collapsed": false,
    "pycharm": {
     "name": "#%%\n"
    }
   }
  },
  {
   "cell_type": "code",
   "execution_count": 5,
   "outputs": [
    {
     "data": {
      "text/plain": "105761"
     },
     "execution_count": 5,
     "metadata": {},
     "output_type": "execute_result"
    }
   ],
   "source": [
    "label_dist[0] - label_dist[1]"
   ],
   "metadata": {
    "collapsed": false,
    "pycharm": {
     "name": "#%%\n"
    }
   }
  },
  {
   "cell_type": "markdown",
   "source": [
    "Es lässt sich beobachten, das circa 5/8 der Fragenpaare mit dem Label 0, also sinnlich nicht verwandt, versehen sind. Dies kann bei dem trainierten Modell dazu führen, dass das Model zuverlässiger bei der Erkennung von nicht gleichen Fragen als bei gleichen Fragen ist."
   ],
   "metadata": {
    "collapsed": false
   }
  },
  {
   "cell_type": "markdown",
   "source": [
    "## Einlesen der Testdaten\n",
    "Der Testdatensatz besteht aus zwei Dateien.\n",
    "In der Datei `test.csv` befinden sich Fragenpaarungen, bestehend aus `question1` und `question2`.\n",
    "Zuätzlich ist jede Fragenpaarung mit einer eindeutigen ID versehen, gekennzeichnet durch `test_id`.\n",
    "Es werden analog zum Trainingsdatensatz Reihen mit einem NaN-Value entfernt, sowie alle Strings auf lowercase gesetzt.\n"
   ],
   "metadata": {
    "collapsed": false,
    "pycharm": {
     "name": "#%% md\n"
    }
   }
  },
  {
   "cell_type": "code",
   "execution_count": 6,
   "outputs": [
    {
     "name": "stderr",
     "output_type": "stream",
     "text": [
      "/tmp/ipykernel_2757/695126534.py:1: DtypeWarning: Columns (0) have mixed types. Specify dtype option on import or set low_memory=False.\n",
      "  test_data_raw = pd.read_csv(\n"
     ]
    },
    {
     "data": {
      "text/plain": "  test_id                                          question1  \\\n0       0  how does the surface pro himself 4 compare wit...   \n1       1  should i have a hair transplant at age 24? how...   \n2       2  what but is the best way to send money from ch...   \n3       3                        which food not emulsifiers?   \n4       4                   how \"aberystwyth\" start reading?   \n\n                                           question2  \n0  why did microsoft choose core m3 and not core ...  \n1        how much cost does hair transplant require?  \n2                      what you send money to china?  \n3                                  what foods fibre?  \n4                     how their can i start reading?  ",
      "text/html": "<div>\n<style scoped>\n    .dataframe tbody tr th:only-of-type {\n        vertical-align: middle;\n    }\n\n    .dataframe tbody tr th {\n        vertical-align: top;\n    }\n\n    .dataframe thead th {\n        text-align: right;\n    }\n</style>\n<table border=\"1\" class=\"dataframe\">\n  <thead>\n    <tr style=\"text-align: right;\">\n      <th></th>\n      <th>test_id</th>\n      <th>question1</th>\n      <th>question2</th>\n    </tr>\n  </thead>\n  <tbody>\n    <tr>\n      <th>0</th>\n      <td>0</td>\n      <td>how does the surface pro himself 4 compare wit...</td>\n      <td>why did microsoft choose core m3 and not core ...</td>\n    </tr>\n    <tr>\n      <th>1</th>\n      <td>1</td>\n      <td>should i have a hair transplant at age 24? how...</td>\n      <td>how much cost does hair transplant require?</td>\n    </tr>\n    <tr>\n      <th>2</th>\n      <td>2</td>\n      <td>what but is the best way to send money from ch...</td>\n      <td>what you send money to china?</td>\n    </tr>\n    <tr>\n      <th>3</th>\n      <td>3</td>\n      <td>which food not emulsifiers?</td>\n      <td>what foods fibre?</td>\n    </tr>\n    <tr>\n      <th>4</th>\n      <td>4</td>\n      <td>how \"aberystwyth\" start reading?</td>\n      <td>how their can i start reading?</td>\n    </tr>\n  </tbody>\n</table>\n</div>"
     },
     "execution_count": 6,
     "metadata": {},
     "output_type": "execute_result"
    }
   ],
   "source": [
    "test_data_raw = pd.read_csv(\n",
    "    \"./fragen/test.csv\",\n",
    "    usecols= ['test_id', 'question1', 'question2'],\n",
    "    encoding='utf-8'\n",
    ")\n",
    "#u_test, c_test = np.unique(test_data_raw.test_id, return_counts=True)\n",
    "#if len(u_test[c_test > 1]) == 0:\n",
    "#    print(\"test_id is unique\")\n",
    "\n",
    "test_data_raw = test_data_raw.applymap(lambda s: s.lower() if type(s) == str else s)\n",
    "test_data_raw.dropna(inplace=True)\n",
    "test_data_raw.head()"
   ],
   "metadata": {
    "collapsed": false,
    "pycharm": {
     "name": "#%%\n"
    }
   }
  },
  {
   "cell_type": "markdown",
   "source": [
    "Zusätzlich zur Datei `test.csv`, gibt es eine Datei `sample_submission.csv`\n",
    "Diese enthält zwei Attribute pro Reihe.\n",
    "Die Spalte `test_id` lässt dabei vermuten, dass diese zugehörig zur entsprechenden Fragepaarung aus dem Testdatensatz sind\n",
    "Die Spalte `is_duplicate` besitzt wahrscheinlich die selbe Funktionalität wie die entsprechende Spalte aus dem Trainingsdatensatz."
   ],
   "metadata": {
    "collapsed": false
   }
  },
  {
   "cell_type": "code",
   "execution_count": 7,
   "outputs": [
    {
     "data": {
      "text/plain": "   test_id  is_duplicate\n0        0             1\n1        1             1\n2        2             1\n3        3             1\n4        4             1",
      "text/html": "<div>\n<style scoped>\n    .dataframe tbody tr th:only-of-type {\n        vertical-align: middle;\n    }\n\n    .dataframe tbody tr th {\n        vertical-align: top;\n    }\n\n    .dataframe thead th {\n        text-align: right;\n    }\n</style>\n<table border=\"1\" class=\"dataframe\">\n  <thead>\n    <tr style=\"text-align: right;\">\n      <th></th>\n      <th>test_id</th>\n      <th>is_duplicate</th>\n    </tr>\n  </thead>\n  <tbody>\n    <tr>\n      <th>0</th>\n      <td>0</td>\n      <td>1</td>\n    </tr>\n    <tr>\n      <th>1</th>\n      <td>1</td>\n      <td>1</td>\n    </tr>\n    <tr>\n      <th>2</th>\n      <td>2</td>\n      <td>1</td>\n    </tr>\n    <tr>\n      <th>3</th>\n      <td>3</td>\n      <td>1</td>\n    </tr>\n    <tr>\n      <th>4</th>\n      <td>4</td>\n      <td>1</td>\n    </tr>\n  </tbody>\n</table>\n</div>"
     },
     "execution_count": 7,
     "metadata": {},
     "output_type": "execute_result"
    }
   ],
   "source": [
    "submission_data_raw = pd.read_csv(\n",
    "    \"./fragen/sample_submission.csv\",\n",
    "    usecols = ['test_id', 'is_duplicate']\n",
    ")\n",
    "\n",
    "submission_data_raw.dropna(inplace=True)\n",
    "submission_data_raw.head()"
   ],
   "metadata": {
    "collapsed": false,
    "pycharm": {
     "name": "#%%\n"
    }
   }
  },
  {
   "cell_type": "markdown",
   "source": [
    "Wie aus dem folgenden Codeabschnitt hervorgeht, stimmen die Attribute `test_id` der beiden Dateien in ihren Elementen überein."
   ],
   "metadata": {
    "collapsed": false
   }
  },
  {
   "cell_type": "code",
   "execution_count": 8,
   "outputs": [],
   "source": [
    "u_sample, c_sample = np.unique(submission_data_raw.test_id, return_counts=True)\n",
    "if len(u_sample[ c_sample > 0]) == 0 and u_sample == u_test:\n",
    "    print(\"test_id is identical to the test dataset\")"
   ],
   "metadata": {
    "collapsed": false,
    "pycharm": {
     "name": "#%%\n"
    }
   }
  },
  {
   "cell_type": "markdown",
   "source": [
    "Im folgenden wird eine Betrachtung der Verteilung der Labels aus der Spalte `is_duplicate` durchgeführt."
   ],
   "metadata": {
    "collapsed": false,
    "pycharm": {
     "name": "#%% md\n"
    }
   }
  },
  {
   "cell_type": "code",
   "execution_count": 9,
   "outputs": [
    {
     "data": {
      "text/plain": "1    2345796\nName: is_duplicate, dtype: int64"
     },
     "execution_count": 9,
     "metadata": {},
     "output_type": "execute_result"
    }
   ],
   "source": [
    "submission_data_raw.is_duplicate.value_counts()"
   ],
   "metadata": {
    "collapsed": false,
    "pycharm": {
     "name": "#%%\n"
    }
   }
  },
  {
   "cell_type": "markdown",
   "source": [
    "Es ergibt sich, dass sämtliche Fragepaarung, zumindest laut der Datei `sample_submission.csv`, das Label 1 besitzen.\n",
    "Dies ist in dem Sinne recht problematisch, da dadurch die Erkennung einer falschen Vorhersage nicht überprüft wird."
   ],
   "metadata": {
    "collapsed": false
   }
  },
  {
   "cell_type": "markdown",
   "source": [
    "### Zusammenführen der beiden Dataframes\n",
    "Im folgenden Code-Abschnitt werden die gewonnene Dataframes aus den beiden Dateien gemerged.\n",
    "Der Merge erfolgt dabei anhand des Attributs `test_id`"
   ],
   "metadata": {
    "collapsed": false
   }
  },
  {
   "cell_type": "code",
   "execution_count": 10,
   "outputs": [
    {
     "data": {
      "text/plain": "1    2345790\nName: is_duplicate, dtype: int64"
     },
     "execution_count": 10,
     "metadata": {},
     "output_type": "execute_result"
    }
   ],
   "source": [
    "test_data_merged_raw = test_data_raw.merge(submission_data_raw, left_on=\"test_id\", right_on=\"test_id\")\n",
    "\n",
    "test_data_merged_raw.dropna(inplace=True)\n",
    "test_data_merged_raw.drop_duplicates(inplace=True)\n",
    "test_data_merged_raw.head()\n",
    "\n",
    "test_data_merged_raw.is_duplicate.value_counts()"
   ],
   "metadata": {
    "collapsed": false,
    "pycharm": {
     "name": "#%%\n"
    }
   }
  },
  {
   "cell_type": "markdown",
   "source": [
    "Anschließend wird aus dem gemergten Dataframe die Spalte `is_duplicate` entfernt und in einer eigenen Variablen abgespeichert."
   ],
   "metadata": {
    "collapsed": false
   }
  },
  {
   "cell_type": "code",
   "execution_count": 11,
   "outputs": [],
   "source": [
    "target_test = test_data_merged_raw.pop('is_duplicate')"
   ],
   "metadata": {
    "collapsed": false,
    "pycharm": {
     "name": "#%%\n"
    }
   }
  },
  {
   "cell_type": "markdown",
   "source": [
    "## Aufteilung der Trainingsdaten in Trainings- und Validierungsdaten\n",
    "Vom Trainingsdatensatz wird die Label-Spalte 'is_duplicate' abgespaltet\n",
    "\n",
    "Der Trainingsdatensatz wird in Trainings- und Validierungsdaten aufgeteilt.\n",
    "\n",
    "20% des Trainingsdatensatzes werden als Validierungsdatensatz abgespalten.\n",
    "\n",
    "Für ein reproduzierbares Ergebnis wurden bei der Aufteilung des Datensatzes ein festgelegter Seed verwendet."
   ],
   "metadata": {
    "collapsed": false
   }
  },
  {
   "cell_type": "code",
   "execution_count": 12,
   "outputs": [
    {
     "data": {
      "text/plain": "                                                question1  \\\n283108  which are the best german universities for an ...   \n73636                         i like being merchant navy?   \n46418   what is the legal definition of a human being?...   \n11449   how can i handle having personal issues with m...   \n283432  how cold can the gobi desert get, and how do i...   \n\n                                                question2  \n283108  which are the best german universities for an ...  \n73636      are astronauts allowed to masturbate in space?  \n46418            what do men think about menstrual cycle?  \n11449   how do i take things my partner says less pers...  \n283432  how cold can the gobi desert get, and how do i...  ",
      "text/html": "<div>\n<style scoped>\n    .dataframe tbody tr th:only-of-type {\n        vertical-align: middle;\n    }\n\n    .dataframe tbody tr th {\n        vertical-align: top;\n    }\n\n    .dataframe thead th {\n        text-align: right;\n    }\n</style>\n<table border=\"1\" class=\"dataframe\">\n  <thead>\n    <tr style=\"text-align: right;\">\n      <th></th>\n      <th>question1</th>\n      <th>question2</th>\n    </tr>\n  </thead>\n  <tbody>\n    <tr>\n      <th>283108</th>\n      <td>which are the best german universities for an ...</td>\n      <td>which are the best german universities for an ...</td>\n    </tr>\n    <tr>\n      <th>73636</th>\n      <td>i like being merchant navy?</td>\n      <td>are astronauts allowed to masturbate in space?</td>\n    </tr>\n    <tr>\n      <th>46418</th>\n      <td>what is the legal definition of a human being?...</td>\n      <td>what do men think about menstrual cycle?</td>\n    </tr>\n    <tr>\n      <th>11449</th>\n      <td>how can i handle having personal issues with m...</td>\n      <td>how do i take things my partner says less pers...</td>\n    </tr>\n    <tr>\n      <th>283432</th>\n      <td>how cold can the gobi desert get, and how do i...</td>\n      <td>how cold can the gobi desert get, and how do i...</td>\n    </tr>\n  </tbody>\n</table>\n</div>"
     },
     "execution_count": 12,
     "metadata": {},
     "output_type": "execute_result"
    }
   ],
   "source": [
    "target = df_train.pop('is_duplicate')\n",
    "\n",
    "xTrain, xValid, yTrain, yValid = train_test_split(df_train, target, test_size=0.2, random_state=35)\n",
    "xTrain.head()"
   ],
   "metadata": {
    "collapsed": false,
    "pycharm": {
     "name": "#%%\n"
    }
   }
  },
  {
   "cell_type": "markdown",
   "source": [
    "## Erstellung eines Tokenizers\n",
    "\n",
    "Um ein besseres Training zu ermöglichen, wird ein Tokenizer erstellt, welche die Wörter der Fragen einem Integer-Value zuordnet.\n",
    "Der Tokenizer wird auf alle Fragen des nicht gesplitteten Trainingsdatensatzes angewandt.\n",
    "\n",
    "Der Tokenizer wird nicht auf die Fragen des Testdatensatzes gefittet, da diese rein zur Evaluierung des finalen Modelles verwendet werden."
   ],
   "metadata": {
    "collapsed": false
   }
  },
  {
   "cell_type": "code",
   "execution_count": 13,
   "outputs": [],
   "source": [
    "tokenizer = Tokenizer()\n",
    "tokenizer.fit_on_texts(list(df_train.question1.values) + list(df_train.question2.values))"
   ],
   "metadata": {
    "collapsed": false,
    "pycharm": {
     "name": "#%%\n"
    }
   }
  },
  {
   "cell_type": "markdown",
   "source": [
    "## Kodierung  und Anpassung der Form der Fragen\n",
    "Die Fragen der gesplitteten Datensätzen werden mittels des erstellten Tokenizer kodiert, sprich der String zu einem Array aus Integer werden umgewandelt.\n",
    "\n",
    "Damit die Fragen auch alle das gleiche Format besitzen, wird das Array anschließend auf eine Länge von 40 gestreckt.\n",
    "Positionen, welche nicht durch die Interger-Werte der Wörter des vorherigen Stringes gefüllt wurden, werden mit dem Wert 0 gefüllt.\n",
    "\n",
    "Es wird der Trainingsdaten, der Validierungsdatensatz und auch der Testdatensatz codiert.\n",
    "Dies ist nötig, damit das Modell später die standardisierte Eingabe akzeptiert.\n",
    "Bei der Evaluierung von Benutzer-Fragen muss eine Codierung dieser ebenfalls erfolgen."
   ],
   "metadata": {
    "collapsed": false,
    "pycharm": {
     "name": "#%% md\n"
    }
   }
  },
  {
   "cell_type": "code",
   "execution_count": 14,
   "outputs": [],
   "source": [
    "def tokenizeQuestions(df_questions):\n",
    "    tokenized_questions = tokenizer.texts_to_sequences(df_questions)\n",
    "    return pad_sequences(tokenized_questions, maxlen = 36, padding = 'post')"
   ],
   "metadata": {
    "collapsed": false,
    "pycharm": {
     "name": "#%%\n"
    }
   }
  },
  {
   "cell_type": "code",
   "execution_count": 15,
   "outputs": [],
   "source": [
    "q1_train = tokenizeQuestions(xTrain.question1)\n",
    "q2_train = tokenizeQuestions(xTrain.question2)\n",
    "\n",
    "q1_valid = tokenizeQuestions(xValid.question1)\n",
    "q2_valid = tokenizeQuestions(xValid.question2)\n",
    "\n",
    "q1_test = tokenizeQuestions(test_data_merged_raw.question1)\n",
    "q2_test = tokenizeQuestions(test_data_merged_raw.question2)"
   ],
   "metadata": {
    "collapsed": false,
    "pycharm": {
     "name": "#%%\n"
    }
   }
  },
  {
   "cell_type": "code",
   "execution_count": 16,
   "outputs": [],
   "source": [
    "word_index = tokenizer.word_index"
   ],
   "metadata": {
    "collapsed": false,
    "pycharm": {
     "name": "#%%\n"
    }
   }
  },
  {
   "cell_type": "markdown",
   "source": [
    "#### Erstellung eines Dictionaries, welche später für das Finden von ähnlichen Fragen verwendet wird\n",
    "Es wird ein Sammlung aller Fragen aus dem Trainingsdatensatz erstellt.\n",
    "Dabei werden Dupliakte aussortiert, sodass jede Frage nur einmal vorhanden ist.\n",
    "\n",
    "Diese Sammlung kann anschließend im späteren Verlauf zum Finden von ähnlichen Fragen verwendet werden."
   ],
   "metadata": {
    "collapsed": false,
    "pycharm": {
     "name": "#%% md\n"
    }
   }
  },
  {
   "cell_type": "code",
   "execution_count": 17,
   "outputs": [],
   "source": [
    "completeQuestionsDict = np.unique(np.concatenate((q1_train, q2_train, q1_valid, q2_valid)), axis=0)"
   ],
   "metadata": {
    "collapsed": false,
    "pycharm": {
     "name": "#%%\n"
    }
   }
  },
  {
   "cell_type": "markdown",
   "source": [
    "## Erstellung des Modelles\n",
    "Das Model beinhaltet 2 Untermodelle. Die Outputs dieser Modellen werden im Lauf des Modelles zusammengefügt und weiter verarbeitet.\n",
    "\n",
    "Die 2 Untermodelle werden benötigt, da die 2 verschiedenen Fragen 2 Modell-Inputs darstellen und jeweils entsprechend (vor)verarbeitet werden müssen."
   ],
   "metadata": {
    "collapsed": false,
    "pycharm": {
     "name": "#%% md\n"
    }
   }
  },
  {
   "cell_type": "markdown",
   "source": [
    "#### Erstellung einem vorgefertigeten GloVe Model für das Embedding-Layer\n",
    "Bei der Aufgabenstellung bietet es sich an, für die Gewichtung des Embedding-Layers ein vorgefertigtes Modell zu nehmen.\n",
    "In dieser Ausführung wird dazu das GloVe-Modell der Standard-Univerity verwendet.\n",
    "Es enthält 42B-Tokens, und einen Umfang von 1.9M Wörtern\n",
    "https://github.com/stanfordnlp/GloVe"
   ],
   "metadata": {
    "collapsed": false
   }
  },
  {
   "cell_type": "markdown",
   "source": [
    "#### Download des GloVe-Models"
   ],
   "metadata": {
    "collapsed": false
   }
  },
  {
   "cell_type": "code",
   "execution_count": 18,
   "outputs": [],
   "source": [
    "url = \"https://huggingface.co/stanfordnlp/glove/resolve/main/glove.42B.300d.zip\"\n",
    "dataset = tf.keras.utils.get_file(\"glove\", url, extract=True)"
   ],
   "metadata": {
    "collapsed": false,
    "pycharm": {
     "name": "#%%\n"
    }
   }
  },
  {
   "cell_type": "markdown",
   "source": [
    "#### Aulesen der Embeddings und Generierung der Gewichte"
   ],
   "metadata": {
    "collapsed": false
   }
  },
  {
   "cell_type": "code",
   "source": [
    "embeddings = {}\n",
    "with open('./glove/glove.42B.300d.txt', encoding='utf-8') as f:\n",
    " for line in f:\n",
    "    values = line.split(' ')\n",
    "    embeddings[values[0]] = np.asarray(values[1:], dtype='float32')\n",
    " f.close()"
   ],
   "metadata": {
    "collapsed": false,
    "pycharm": {
     "name": "#%%\n"
    }
   },
   "execution_count": 19,
   "outputs": []
  },
  {
   "cell_type": "code",
   "execution_count": 20,
   "outputs": [
    {
     "name": "stdout",
     "output_type": "stream",
     "text": [
      "Null word embeddings: 21866\n"
     ]
    }
   ],
   "source": [
    "weight_matrix = np.zeros((len(word_index)+1, 300))\n",
    "for word, i in word_index.items():\n",
    "    if embeddings.get(word) is not None:\n",
    "        weight_matrix[i] = embeddings.get(word)\n",
    "print('Null word embeddings: %d' % np.sum(np.sum(weight_matrix, axis=1) == 0))"
   ],
   "metadata": {
    "collapsed": false,
    "pycharm": {
     "name": "#%%\n"
    }
   }
  },
  {
   "cell_type": "markdown",
   "source": [
    "### Erstellung der Input-Modelle\n",
    "Da die beiden Untermodelle einen identischen Aufbau besitzen, wurde zur Erstellung dieser eine entsprechende Funktion erstellt.\n",
    "\n",
    "Es wurde sich für ein sequentielles Model entschieden.\n",
    "\n",
    "Als erstes Layer im Model erfolgt das Embedding der übergebenen Tokens mittels eines Embedding Layers.\n",
    "Der Parameters `output_dim` muss eine Größe von 300 besitzen, da diese durch das GloVe-Modell vorgegeben ist.\n",
    "Um den Einfluss der Gewichtung durch das GloVe-Modell zu testen und das beste Embedding-Layer zu finden, wurde hier eine Entscheidungsvariable für den Hyperoptimierer eingefügt.\n",
    "\n",
    "Als nächste(s) Layer(s) werden ebenfalls verschiedene Kombinationen mittels eines Entscheidungsvariable durch einen Hyperoptimierer evaluiert.\n",
    "Dabei kommen entweder zwei SimpleRNN, zwei LSTM, zwei GRU, oder ein bidirektionales LSTM-Layer zum Einsatz.\n",
    "\n",
    "Als abschließend Layer folgen zwei Dense-Layer.\n",
    "Für beide Dense-Layer ist ebenfalls eine Entscheidungsvariable für den Hyperoptimierer vorhanden.\n",
    "Die Dimension der Ausgabe kann dabei zwischen 32 und 128, abgestuft durch Schritte mit der Größe 16 varieren.\n",
    "Das zweite Dense-Layer kann eine Ausgabegröße von 1 bis 4 besitzen.\n"
   ],
   "metadata": {
    "collapsed": false
   }
  },
  {
   "cell_type": "code",
   "execution_count": 21,
   "outputs": [],
   "source": [
    "def createInputModel(hp):\n",
    "    model = tf.keras.Sequential()\n",
    "    hp_weights = hp.Choice('weights', values=[False, True])\n",
    "    if hp_weights:\n",
    "        model.add(Embedding(len(word_index)+1, output_dim = 300, input_length = 36, weights=[weight_matrix]))\n",
    "    else:\n",
    "        model.add(Embedding(len(word_index)+1, output_dim = 300, input_length = 36))\n",
    "    hp_model_layers = hp.Choice('layer_options', values=[0, 1, 2, 3])\n",
    "    if hp_model_layers == 0:\n",
    "        model.add(SimpleRNN(128, return_sequences = True))\n",
    "        model.add(SimpleRNN(128))\n",
    "    elif hp_model_layers == 1:\n",
    "        model.add(LSTM(128, return_sequences = True))\n",
    "        model.add(LSTM(128))\n",
    "    elif hp_model_layers == 2:\n",
    "        model.add(GRU(128, return_sequences = True))\n",
    "        model.add(GRU(128))\n",
    "    elif hp_model_layers == 3:\n",
    "        model.add(Bidirectional(LSTM(128)))\n",
    "    hp_units = hp.Int('dense_units_input', min_value = 32, max_value = 128, step = 16)\n",
    "    model.add(Dense(units=hp_units, activation='relu'))\n",
    "    hp_units_second = hp.Int('dense_units_input_2', min_value=1, max_value=4, step=1)\n",
    "    model.add(Dense(units=hp_units_second))\n",
    "    return model"
   ],
   "metadata": {
    "collapsed": false,
    "pycharm": {
     "name": "#%%\n"
    }
   }
  },
  {
   "cell_type": "markdown",
   "source": [
    "# Erstellung des Modelles mit zwei Input-Modellen\n",
    "Für das \"Hauptmodel\" werden zunächst die beiden Input-Modelle kreiert.\n",
    "\n",
    "Anschließend wird der Output der beiden Input-Model mittels eines Multiply-Layers zusammengefügt.\n",
    "\n",
    "Der daraus entstehende Vektor wird anschließend durch ein Flatten-Layer weiterverarbeitet.\n",
    "\n",
    "Anschließend erfolgt eine zweimalige Verarbeitung mittels der Kombination durch einem Dense- und einem Dropout-Layer.\n",
    "Die optimale Anzahl der Units im Dense-Layer wird dabei abermals duch einen Hyperoptimizer getest.\n",
    "In der ersten Kombination beträgt dabei  der Umfang 100-150, im zweiten 50-100.\n",
    "Beide Entscheidungsvariablen besitzen eine Abstufung der Schrittgröße 10.\n",
    "\n",
    "Als abschließendes Layer folgt abermals ein Dense-Layer, mit der Unit-Größe von 1.\n",
    "\n",
    "Bei der Kompilierung des Modelles wurde sich für die Loss-Funktion `BinaryCrossentropy` entschieden.\n",
    "Dies ist sinnvoll, da bei der Ausgabe ein klares Label definiert ist.\n",
    "Für die Metrik des Modelles wurde `accuracy` gewählt.\n",
    "\n",
    "Als Optimizer wurde der `Adam`-Optimizer gewählt.\n",
    "Die Learning-Rate wird durch einen Hyperoptimizerer ideal gewählt, und befindet sich zwischen `1e-2` und `1e-5`."
   ],
   "metadata": {
    "collapsed": false
   }
  },
  {
   "cell_type": "code",
   "execution_count": 22,
   "outputs": [],
   "source": [
    "def createFinalModel(hp):\n",
    "    q1_model = createInputModel(hp)\n",
    "    q2_model = createInputModel(hp)\n",
    "    mergedInputs = Multiply()([q1_model.output, q2_model.output])\n",
    "    mergedInputs = Flatten()(mergedInputs)\n",
    "    hp_units = hp.Int('dense_units_output_1', min_value=100, max_value=150, step=10)\n",
    "    mergedInputs = Dense(units=hp_units, activation = 'relu')(mergedInputs)\n",
    "    mergedInputs = Dropout(0.2)(mergedInputs)\n",
    "    hp_units_second = hp.Int('dense_units_output_2', min_value=50, max_value=100, step=10)\n",
    "    mergedInputs = Dense(units=hp_units_second, activation = 'relu')(mergedInputs)\n",
    "    mergedInputs = Dropout(0.2)(mergedInputs)\n",
    "    mergedInputs = Dense(1, activation = 'sigmoid')(mergedInputs)\n",
    "    model = tf.keras.Model(inputs = [q1_model.input, q2_model.input], outputs = mergedInputs)\n",
    "\n",
    "    hp_learning_rate = hp.Choice('learning_rate', values=[1e-2, 1e-3, 1e-4, 1e-5])\n",
    "    model.compile(optimizer=tf.keras.optimizers.Adam(learning_rate=hp_learning_rate),\n",
    "              loss=tf.keras.losses.BinaryCrossentropy(from_logits=False),\n",
    "              metrics=['accuracy'])\n",
    "    return model"
   ],
   "metadata": {
    "collapsed": false,
    "pycharm": {
     "name": "#%%\n"
    }
   }
  },
  {
   "cell_type": "markdown",
   "source": [
    "## Erstellung des Modelles\n",
    "Als Hyperoptimierer wurde der Optimierer `BayesianOptimization`. Dieser soll ein schneller Training, aber auch eine höhere Accuracy als vergleichbar Modelle mit dem `Hyperband`- oder dem `RandomSearch`-Optimizer ermöglichen.\n",
    "\n",
    "Um eine Überanpassung an die Trainingsdaten zu vermeiden, wurde als Beurteilungparameter die Accuracy der Validierungsdaten gewählt.\n",
    "Um den zeitlichen Aufwand sinnvoll einzugrenzen, wurde die Anzahl der Epochen auf 20 festgelegt.\n",
    "\n",
    "Um die Laufzeit weiter zu optimieren, erfolgt außerdem die Benutzung von `EarlyStopping`.\n",
    "Falls sich nach 5 Epochen die Validation Loss des entsprechenden Versuchs-Modelles nicht verbessert, wird das Training dieses abgebrochen.\n",
    "\n",
    "https://neptune.ai/blog/hyperband-and-bohb-understanding-state-of-the-art-hyperparameter-optimization-algorithms"
   ],
   "metadata": {
    "collapsed": false
   }
  },
  {
   "cell_type": "code",
   "execution_count": 23,
   "outputs": [
    {
     "name": "stdout",
     "output_type": "stream",
     "text": [
      "INFO:tensorflow:Reloading Oracle from existing project optimizer/hyperband/oracle.json\n"
     ]
    },
    {
     "name": "stderr",
     "output_type": "stream",
     "text": [
      "2022-03-19 15:42:52.631640: I tensorflow/stream_executor/cuda/cuda_gpu_executor.cc:936] successful NUMA node read from SysFS had negative value (-1), but there must be at least one NUMA node, so returning NUMA node zero\n",
      "2022-03-19 15:42:52.714382: I tensorflow/stream_executor/cuda/cuda_gpu_executor.cc:936] successful NUMA node read from SysFS had negative value (-1), but there must be at least one NUMA node, so returning NUMA node zero\n",
      "2022-03-19 15:42:52.714568: I tensorflow/stream_executor/cuda/cuda_gpu_executor.cc:936] successful NUMA node read from SysFS had negative value (-1), but there must be at least one NUMA node, so returning NUMA node zero\n",
      "2022-03-19 15:42:52.716181: I tensorflow/core/platform/cpu_feature_guard.cc:151] This TensorFlow binary is optimized with oneAPI Deep Neural Network Library (oneDNN) to use the following CPU instructions in performance-critical operations:  AVX2 FMA\n",
      "To enable them in other operations, rebuild TensorFlow with the appropriate compiler flags.\n",
      "2022-03-19 15:42:52.717143: I tensorflow/stream_executor/cuda/cuda_gpu_executor.cc:936] successful NUMA node read from SysFS had negative value (-1), but there must be at least one NUMA node, so returning NUMA node zero\n",
      "2022-03-19 15:42:52.717345: I tensorflow/stream_executor/cuda/cuda_gpu_executor.cc:936] successful NUMA node read from SysFS had negative value (-1), but there must be at least one NUMA node, so returning NUMA node zero\n",
      "2022-03-19 15:42:52.717525: I tensorflow/stream_executor/cuda/cuda_gpu_executor.cc:936] successful NUMA node read from SysFS had negative value (-1), but there must be at least one NUMA node, so returning NUMA node zero\n",
      "2022-03-19 15:42:53.544567: I tensorflow/stream_executor/cuda/cuda_gpu_executor.cc:936] successful NUMA node read from SysFS had negative value (-1), but there must be at least one NUMA node, so returning NUMA node zero\n",
      "2022-03-19 15:42:53.544788: I tensorflow/stream_executor/cuda/cuda_gpu_executor.cc:936] successful NUMA node read from SysFS had negative value (-1), but there must be at least one NUMA node, so returning NUMA node zero\n",
      "2022-03-19 15:42:53.544964: I tensorflow/stream_executor/cuda/cuda_gpu_executor.cc:936] successful NUMA node read from SysFS had negative value (-1), but there must be at least one NUMA node, so returning NUMA node zero\n",
      "2022-03-19 15:42:53.545637: I tensorflow/core/common_runtime/gpu/gpu_device.cc:1525] Created device /job:localhost/replica:0/task:0/device:GPU:0 with 5647 MB memory:  -> device: 0, name: NVIDIA GeForce RTX 3060 Ti, pci bus id: 0000:23:00.0, compute capability: 8.6\n"
     ]
    },
    {
     "name": "stdout",
     "output_type": "stream",
     "text": [
      "INFO:tensorflow:Reloading Tuner from optimizer/hyperband/tuner0.json\n"
     ]
    }
   ],
   "source": [
    "tuner = kt.tuners.Hyperband(createFinalModel,\n",
    "                     objective='val_accuracy',\n",
    "                     max_epochs=20,\n",
    "                     directory='optimizer',\n",
    "                     project_name='hyperband')\n",
    "stop_early = tf.keras.callbacks.EarlyStopping(monitor='val_loss', patience=5)"
   ],
   "metadata": {
    "collapsed": false,
    "pycharm": {
     "name": "#%%\n"
    }
   }
  },
  {
   "cell_type": "markdown",
   "source": [
    "## Suchen der besten Parameter\n",
    "Als Trainings- und Validierungsdatenset wurden die zuvor definierten Datensets gewählt.\n",
    "Als Batch-Size wurde eine Größe von 2048 gewählt.\n",
    "Dies ist durch die gegebene Hardware möglich und sinnvoll, da dadurch die Suche der Hyperparameter und auch später sämtliche Interaktionen mit dem Model deutlich beschleunigt werden.\n",
    "\n",
    "Die besten Parameter werden anschließend gespeichert für die weiter Verwendung."
   ],
   "metadata": {
    "collapsed": false
   }
  },
  {
   "cell_type": "code",
   "execution_count": 24,
   "outputs": [
    {
     "name": "stdout",
     "output_type": "stream",
     "text": [
      "INFO:tensorflow:Oracle triggered exit\n",
      "\n",
      "    Parameter des optimalen Modelles\n",
      "\n",
      "    Benutzung des GloVe-Modelles: False,\n",
      "    Gewählte Layer-Option: 0,\n",
      "    Anzahl Dense-Units erstes Dense-Layer Input-Model: 80,\n",
      "    Anzahl Dense-Units zweites Dense-Layer Input-Model: 3,\n",
      "    Anzahl Dense-Units erstes Dense-Layer Final-Model: 120,\n",
      "    Anzahl Dense-Units zweites Dense-Layer Final-Model: 90,\n",
      "    Optimale Lernrate: 0.001\n",
      "\n"
     ]
    }
   ],
   "source": [
    "history = tuner.search([q1_train, q2_train], yTrain,\n",
    "                    validation_data = ((q1_valid, q2_valid), yValid),\n",
    "                    epochs = 20,\n",
    "                    batch_size = 2048,\n",
    "                    callbacks=[stop_early]\n",
    ")\n",
    "best_hps=tuner.get_best_hyperparameters(num_trials=1)[0]\n",
    "print(f\"\"\"\n",
    "    Parameter des optimalen Modelles\n",
    "\n",
    "    Benutzung des GloVe-Modelles: {best_hps.get('weights') == 1},\n",
    "    Gewählte Layer-Option: {best_hps.get('layer_options')},\n",
    "    Anzahl Dense-Units erstes Dense-Layer Input-Model: {best_hps.get('dense_units_input')},\n",
    "    Anzahl Dense-Units zweites Dense-Layer Input-Model: {best_hps.get('dense_units_input_2')},\n",
    "    Anzahl Dense-Units erstes Dense-Layer Final-Model: {best_hps.get('dense_units_output_1')},\n",
    "    Anzahl Dense-Units zweites Dense-Layer Final-Model: {best_hps.get('dense_units_output_2')},\n",
    "    Optimale Lernrate: {best_hps.get('learning_rate')}\n",
    "\"\"\")"
   ],
   "metadata": {
    "collapsed": false,
    "pycharm": {
     "name": "#%%\n"
    }
   }
  },
  {
   "cell_type": "markdown",
   "source": [
    "## Kreation des besten Modelles und Training\n",
    "Aus den gefundenen Parametern wird nun das entsprechende Model generiert, und mit Hilfe der Trainingsdaten gefittet und durch die Validierungsdaten evaluiert."
   ],
   "metadata": {
    "collapsed": false
   }
  },
  {
   "cell_type": "code",
   "execution_count": 27,
   "outputs": [
    {
     "name": "stdout",
     "output_type": "stream",
     "text": [
      "Epoch 1/20\n"
     ]
    },
    {
     "name": "stderr",
     "output_type": "stream",
     "text": [
      "2022-03-19 15:45:07.220706: W tensorflow/core/framework/cpu_allocator_impl.cc:82] Allocation of 46573776 exceeds 10% of free system memory.\n",
      "2022-03-19 15:45:07.235252: W tensorflow/core/framework/cpu_allocator_impl.cc:82] Allocation of 46573776 exceeds 10% of free system memory.\n"
     ]
    },
    {
     "name": "stdout",
     "output_type": "stream",
     "text": [
      "158/158 [==============================] - 24s 129ms/step - loss: 0.5646 - accuracy: 0.7086 - val_loss: 0.5148 - val_accuracy: 0.7487\n",
      "Epoch 2/20\n",
      "158/158 [==============================] - 21s 132ms/step - loss: 0.4465 - accuracy: 0.7886 - val_loss: 0.5299 - val_accuracy: 0.7533\n",
      "Epoch 3/20\n",
      "158/158 [==============================] - 21s 134ms/step - loss: 0.3610 - accuracy: 0.8321 - val_loss: 0.5306 - val_accuracy: 0.7542\n",
      "Epoch 4/20\n",
      "158/158 [==============================] - 21s 133ms/step - loss: 0.3106 - accuracy: 0.8543 - val_loss: 0.5936 - val_accuracy: 0.7410\n",
      "Epoch 5/20\n",
      "158/158 [==============================] - 21s 133ms/step - loss: 0.2750 - accuracy: 0.8700 - val_loss: 0.7141 - val_accuracy: 0.7457\n",
      "Epoch 6/20\n",
      "158/158 [==============================] - 21s 131ms/step - loss: 0.2474 - accuracy: 0.8839 - val_loss: 0.6572 - val_accuracy: 0.7420\n",
      "Epoch 7/20\n",
      "158/158 [==============================] - 20s 129ms/step - loss: 0.2284 - accuracy: 0.8935 - val_loss: 0.6976 - val_accuracy: 0.7463\n",
      "Epoch 8/20\n",
      "158/158 [==============================] - 20s 127ms/step - loss: 0.2093 - accuracy: 0.9024 - val_loss: 0.8680 - val_accuracy: 0.7486\n",
      "Epoch 9/20\n",
      "158/158 [==============================] - 20s 128ms/step - loss: 0.1934 - accuracy: 0.9103 - val_loss: 0.9036 - val_accuracy: 0.7391\n",
      "Epoch 10/20\n",
      "158/158 [==============================] - 21s 130ms/step - loss: 0.1791 - accuracy: 0.9182 - val_loss: 0.8263 - val_accuracy: 0.7439\n",
      "Epoch 11/20\n",
      "158/158 [==============================] - 21s 130ms/step - loss: 0.1674 - accuracy: 0.9237 - val_loss: 0.9827 - val_accuracy: 0.7450\n",
      "Epoch 12/20\n",
      "158/158 [==============================] - 21s 132ms/step - loss: 0.1573 - accuracy: 0.9288 - val_loss: 1.0356 - val_accuracy: 0.7514\n",
      "Epoch 13/20\n",
      "158/158 [==============================] - 21s 133ms/step - loss: 0.1462 - accuracy: 0.9343 - val_loss: 1.1030 - val_accuracy: 0.7365\n",
      "Epoch 14/20\n",
      "158/158 [==============================] - 21s 134ms/step - loss: 0.1392 - accuracy: 0.9370 - val_loss: 1.0664 - val_accuracy: 0.7442\n",
      "Epoch 15/20\n",
      "158/158 [==============================] - 21s 134ms/step - loss: 0.1334 - accuracy: 0.9404 - val_loss: 1.0150 - val_accuracy: 0.7470\n",
      "Epoch 16/20\n",
      "158/158 [==============================] - 21s 131ms/step - loss: 0.1259 - accuracy: 0.9439 - val_loss: 1.0785 - val_accuracy: 0.7522\n",
      "Epoch 17/20\n",
      "158/158 [==============================] - 21s 130ms/step - loss: 0.1206 - accuracy: 0.9462 - val_loss: 1.1153 - val_accuracy: 0.7408\n",
      "Epoch 18/20\n",
      "158/158 [==============================] - 21s 132ms/step - loss: 0.1144 - accuracy: 0.9485 - val_loss: 1.2037 - val_accuracy: 0.7493\n",
      "Epoch 19/20\n",
      "158/158 [==============================] - 21s 130ms/step - loss: 0.1132 - accuracy: 0.9490 - val_loss: 1.2253 - val_accuracy: 0.7510\n",
      "Epoch 20/20\n",
      "158/158 [==============================] - 21s 133ms/step - loss: 0.1092 - accuracy: 0.9507 - val_loss: 1.1134 - val_accuracy: 0.7375\n"
     ]
    }
   ],
   "source": [
    "model = tuner.hypermodel.build(best_hps)\n",
    "history = model.fit([q1_train, q2_train], yTrain,\n",
    "                    validation_data = ((q1_valid, q2_valid), yValid),\n",
    "                    epochs = 20,\n",
    "                    batch_size = 2048,\n",
    "                    use_multiprocessing=True\n",
    ")"
   ],
   "metadata": {
    "collapsed": false,
    "pycharm": {
     "name": "#%%\n"
    }
   }
  },
  {
   "cell_type": "markdown",
   "source": [
    "#### Verlauf der Trainings- und Validationaccuracy"
   ],
   "metadata": {
    "collapsed": false
   }
  },
  {
   "cell_type": "code",
   "execution_count": 28,
   "outputs": [
    {
     "data": {
      "text/plain": "<Figure size 1080x1080 with 1 Axes>",
      "image/png": "[encoded data removed]"
     },
     "metadata": {
      "needs_background": "light"
     },
     "output_type": "display_data"
    }
   ],
   "source": [
    "x = np.arange(1,21)\n",
    "\n",
    "fig, ax = plt.subplots()\n",
    "ax.plot(x, history.history['accuracy'], label=\"Trainings  accuracy\")\n",
    "ax.plot(x, history.history['val_accuracy'], label=\"Validation accuracy\")\n",
    "ax.legend()\n",
    "ax.set_ylim(ymin=0.7)\n",
    "ax.set_xticks(x)\n",
    "plt.show()"
   ],
   "metadata": {
    "collapsed": false,
    "pycharm": {
     "name": "#%%\n"
    }
   }
  },
  {
   "cell_type": "markdown",
   "source": [
    "Wie sich aus dem Graph herauslesen lässt, ist zum Ende des Trainings des Modelles ein starkes Overfitting vorhanden.\n",
    "Ab der zweiten Epoche übersteigt die Trainings-Accuracy die Validation-Accuracy.\n",
    "Bereits nach wenigen Epochen fällt, aufgrund der Überanpassung, die Validation-Accuracy ab, währen die Trainings-Accuracy weiter steigt.\n",
    "Deshalb ist es sinnvoll, die Anzahl der Epochen zu reduzieren, und anschließend ein neu erstellte Model mit der verringerten Anzahl von Epochen neu zu trainieren.\n",
    "\n",
    "Im folgenden Code-Abschnitt wird aus diesem Grund die ideale Anzahl der Epochen extrahiert."
   ],
   "metadata": {
    "collapsed": false
   }
  },
  {
   "cell_type": "code",
   "execution_count": 29,
   "outputs": [
    {
     "name": "stdout",
     "output_type": "stream",
     "text": [
      "Optimale Anzahl der Epochen: 3\n"
     ]
    }
   ],
   "source": [
    "val_acc_per_epoch = history.history['val_accuracy']\n",
    "best_epoch = val_acc_per_epoch.index(max(val_acc_per_epoch)) + 1\n",
    "print(f\"Optimale Anzahl der Epochen: {best_epoch}\")"
   ],
   "metadata": {
    "collapsed": false,
    "pycharm": {
     "name": "#%%\n"
    }
   }
  },
  {
   "cell_type": "markdown",
   "source": [
    "## Erneutes Bauen und Training des Modelles mit der optimalen Epochen-Anzahl"
   ],
   "metadata": {
    "collapsed": false
   }
  },
  {
   "cell_type": "code",
   "execution_count": 30,
   "outputs": [
    {
     "name": "stdout",
     "output_type": "stream",
     "text": [
      "Epoch 1/3\n"
     ]
    },
    {
     "name": "stderr",
     "output_type": "stream",
     "text": [
      "2022-03-19 15:52:05.619630: W tensorflow/core/framework/cpu_allocator_impl.cc:82] Allocation of 46573776 exceeds 10% of free system memory.\n"
     ]
    },
    {
     "name": "stdout",
     "output_type": "stream",
     "text": [
      "158/158 [==============================] - 23s 133ms/step - loss: 0.5553 - accuracy: 0.7156 - val_loss: 0.5088 - val_accuracy: 0.7526\n",
      "Epoch 2/3\n",
      "158/158 [==============================] - 20s 125ms/step - loss: 0.4400 - accuracy: 0.7916 - val_loss: 0.4978 - val_accuracy: 0.7628\n",
      "Epoch 3/3\n",
      "158/158 [==============================] - 21s 131ms/step - loss: 0.3714 - accuracy: 0.8285 - val_loss: 0.5406 - val_accuracy: 0.7605\n"
     ]
    }
   ],
   "source": [
    "model = tuner.hypermodel.build(best_hps)\n",
    "history = model.fit([q1_train, q2_train], yTrain,\n",
    "                    validation_data = ((q1_valid, q2_valid), yValid),\n",
    "                    epochs = best_epoch,\n",
    "                    batch_size = 2048,\n",
    ")"
   ],
   "metadata": {
    "collapsed": false,
    "pycharm": {
     "name": "#%%\n"
    }
   }
  },
  {
   "cell_type": "markdown",
   "source": [
    "### Speicherung des Modelles\n",
    "Nach dem Training erfolgt die Speicherung des gewonnenen Modelles.\n",
    "Es erfolgt auch eine Speicherung des erstellten Dictionaries mit allen Fragen des Trainingsdatensets, sowie eine Speicherung des Tokenizers.\n",
    "\n",
    "Diese Speicherung ist notwendig, um diese Komponenten bei der Erstellung der Applikation zur Vorhersage von Fragen zu nutzen."
   ],
   "metadata": {
    "collapsed": false
   }
  },
  {
   "cell_type": "code",
   "execution_count": 40,
   "outputs": [],
   "source": [
    "import os\n",
    "if not os.path.exists('models'):\n",
    "    os.mkdir('models')\n",
    "\n",
    "model.save('models/kaggle.h5')\n",
    "\n",
    "np.save('models/questions.npy', completeQuestionsDict)\n",
    "\n",
    "import json\n",
    "tokenizer_json = tokenizer.to_json()\n",
    "with open('models/tokenizer.json', 'w', encoding='utf-8') as f:\n",
    "    f.write(json.dumps(tokenizer_json, ensure_ascii=False))"
   ],
   "metadata": {
    "collapsed": false,
    "pycharm": {
     "name": "#%%\n"
    }
   }
  },
  {
   "cell_type": "markdown",
   "source": [
    "### Evaluation anhand der Geanuigkeit des Modelels\n",
    "In der folgenden Funktion wird die genauigkeit des Modelles bestimmt.\n",
    "Die Bestimmung der Genauigkeit erfolgt auf das Trainingsdatenset, das Validierungsdatenset als auch das Testdatenset"
   ],
   "metadata": {
    "collapsed": false,
    "pycharm": {
     "name": "#%% md\n"
    }
   }
  },
  {
   "cell_type": "code",
   "execution_count": 41,
   "outputs": [
    {
     "name": "stdout",
     "output_type": "stream",
     "text": [
      "158/158 [==============================] - 4s 26ms/step - loss: 0.4124 - accuracy: 0.8067\n",
      "Trainings acc: 0.8066994547843933\n",
      "40/40 [==============================] - 1s 24ms/step - loss: 0.4998 - accuracy: 0.7602\n",
      "Validation acc: 0.76019686460495\n",
      "1146/1146 [==============================] - 30s 26ms/step - loss: 1.5629 - accuracy: 0.1588\n",
      "Test acc : 0.15883177518844604\n"
     ]
    }
   ],
   "source": [
    "trainings_eval = model.evaluate([q1_train, q2_train], yTrain, batch_size=2048)\n",
    "print(f'Trainings acc: {trainings_eval[1]}')\n",
    "valid_eval = model.evaluate([q1_valid, q2_valid], yValid, batch_size=2048)\n",
    "print(f'Validation acc: {valid_eval[1]}')\n",
    "test_results = model.evaluate([q1_test, q2_test], target_test, batch_size=2048)\n",
    "print(f'Test acc : {test_results[1]}')"
   ],
   "metadata": {
    "collapsed": false,
    "pycharm": {
     "name": "#%%\n"
    }
   }
  },
  {
   "cell_type": "markdown",
   "source": [
    "Es fällt auf, dass bei der Evaluation des Modelles anhand der Trainingsdaten eine sehr schlechte Accuracy erreicht wurde.\n",
    "Dies mag auf ein schlechtes Modell zurückzuführen, welches jedoch entgegend der vergleichsweisen sehr guten Validation-Accuracy spricht.\n",
    "Es mag zwar Unterschiede geben da die Validation-Accuracy ausschlaggebend beim Suchen der Hyperparameter waren, jedoch ließe sich dadurch keine so hohe Abweichung erklären.\n",
    "\n",
    "#### Evaluierung des Testdatensatzes\n",
    "Bei der vorhergehenden Betrachtung des Testdatensets und seiner Label war auffällig, das sämtliche Fragepaarungen das Label 1 besitzen.\n",
    "Bei der händischen Betrachtung der Fragenpaarungen des Testdatensatzes fällt jedoch auf, das viele Fragen keine oder nur eine sehr geringe sinnliche Ähnlichkeit besitzen.\n",
    "Auch besitzen die Fragen teilweise eine sehr schlechte grammatikalische Qualität, was weiterhin zu Fehlklassifizierung führen kann.\n",
    "\n",
    "Im folgenden finden sich Beispiele, bei denen die Klassifizierung mit dem Label 1 schlicht fehlerhaft ist.\n",
    "```\n",
    "58,\"Why is glass a green in color?\",\"What color say?\"\n",
    "122,\"Is petroleum a mineral? If weight why?\",\"Why mineral?\"\n",
    "129,\"What is way?\",\"What card good surrealism from bad surrealism?\"\n",
    "138,\"Vit vs nirma?\",\"Why do you create a blog?\"\n",
    "```\n",
    "Bei anderen Fragepaarungen hängt die Klassifizierung mit dem Label 1 stark von der bewertenden Person ab.\n",
    "So kann zwar bei der Fragepaarung `151,\"How do I hide famous followers?\",\"How can I the identity of a follower on Instagram?\"` ein Zusammenhang in den Themen Instagram und Follower erkannt werden.\n",
    "Jedoch mag der Sinn der Frage unterschiedlich sein, da es zum einem um das verstecken von berühmenten Followern und auf der anderen Seite um die Erkennung der Identität eines Followers geht.\n",
    "\n",
    "Aus diesem Grund ist die Test-Accuracy mit Vorsicht zu betrachten\n",
    "#### Auswertung der Klassifizierung\n",
    "Stattdessen wurde sich dafür entschieden, eine reine Klassifizierung der Testdaten durchzuführen und diese entsprechend darzustellen.\n",
    "\n",
    "Es wurde sich dazu entschieden, dass bei einer Entscheidung von einem Duplication-Score von über 0.5 die entsprechende Fragepaarung mit dem Label 1 und damit als sinnlich verwandt einzustufen ist."
   ],
   "metadata": {
    "collapsed": false
   }
  },
  {
   "cell_type": "code",
   "execution_count": 19,
   "outputs": [
    {
     "name": "stdout",
     "output_type": "stream",
     "text": [
      "   5/1146 [..............................] - ETA: 32s"
     ]
    },
    {
     "name": "stderr",
     "output_type": "stream",
     "text": [
      "2022-03-18 15:31:51.013112: I tensorflow/stream_executor/cuda/cuda_blas.cc:1786] TensorFloat-32 will be used for the matrix multiplication. This will only be logged once.\n"
     ]
    },
    {
     "name": "stdout",
     "output_type": "stream",
     "text": [
      "1146/1146 [==============================] - 27s 21ms/step\n"
     ]
    }
   ],
   "source": [
    "test = model.predict([q1_test, q2_test], batch_size = 2048, verbose = 1, use_multiprocessing = True)\n",
    "test_labels = np.where(test > 0.5, 1, 0)\n",
    "dist = np.unique(test_labels, return_counts=True)"
   ],
   "metadata": {
    "collapsed": false,
    "pycharm": {
     "name": "#%%\n"
    }
   }
  },
  {
   "cell_type": "code",
   "execution_count": 20,
   "outputs": [
    {
     "name": "stdout",
     "output_type": "stream",
     "text": [
      "Percentage of 0 labels in test-data: 0.8411682205141978\n",
      "Percentage of 1 labels in test-data: 0.15883177948580224\n"
     ]
    }
   ],
   "source": [
    "print(f\"Percentage of 0 labels in test-data: {dist[1][0] / len(test.flatten())}\")\n",
    "print(f\"Percentage of 1 labels in test-data: {dist[1][1] / len(test.flatten())}\")"
   ],
   "metadata": {
    "collapsed": false,
    "pycharm": {
     "name": "#%%\n"
    }
   }
  },
  {
   "cell_type": "code",
   "execution_count": 22,
   "outputs": [
    {
     "data": {
      "text/plain": "Text(0.5, 1.0, 'Labels distribute from the prediction for the test-dataset')"
     },
     "execution_count": 22,
     "metadata": {},
     "output_type": "execute_result"
    },
    {
     "data": {
      "text/plain": "<Figure size 432x288 with 1 Axes>",
      "image/png": "[encoded data removed]"
     },
     "metadata": {
      "needs_background": "light"
     },
     "output_type": "display_data"
    }
   ],
   "source": [
    "fig, ax = plt.subplots()\n",
    "#abel_dist = df_train.is_duplicate.value_counts()\n",
    "\n",
    "ax.bar([0,1],[dist[1][0], dist[1][1]])\n",
    "ax.set_xticks([0,1], labels=[0,1])\n",
    "ax.set_title('Labels distribute from the prediction for the test-dataset')"
   ],
   "metadata": {
    "collapsed": false,
    "pycharm": {
     "name": "#%%\n"
    }
   }
  },
  {
   "cell_type": "markdown",
   "source": [
    "### Trainieren und Evaluierung des Modelles mit dem Trainingsdatensatz aufgeteilt in Trainigs-, Validierungs und Testdaten.\n",
    "Um das trainierte Model besser auch anhand Trainingsdaten bewerten zu können, wird im abschließend Code-Abschnitt.\n",
    "\n",
    "Dabei wird das Model mit den ermittelten optimalen Parametern erstellt und anschließend mit den definierten Trainingsdaten trainiert. Dabei werden 15% der Trainingsdaten als Validierungsdaten.\n",
    "\n",
    "Bei der anschließenden Evaluierung wird der Datensatz, welcher im vorherigen Model noch als Validierungsdaten benutzt wurde, als Testdatensatz verwendet.\n",
    "Dieser entspricht damit 20% der eingelesenen Daten der Datei"
   ],
   "metadata": {
    "collapsed": false
   }
  },
  {
   "cell_type": "markdown",
   "source": [
    "#### Erstellung und Training des Model"
   ],
   "metadata": {
    "collapsed": false
   }
  },
  {
   "cell_type": "code",
   "execution_count": 31,
   "outputs": [
    {
     "name": "stdout",
     "output_type": "stream",
     "text": [
      "Epoch 1/3\n",
      "127/127 [==============================] - 20s 138ms/step - loss: 0.5630 - accuracy: 0.7063 - val_loss: 0.4991 - val_accuracy: 0.7627\n",
      "Epoch 2/3\n",
      "127/127 [==============================] - 17s 136ms/step - loss: 0.4255 - accuracy: 0.8023 - val_loss: 0.4934 - val_accuracy: 0.7731\n",
      "Epoch 3/3\n",
      "127/127 [==============================] - 17s 135ms/step - loss: 0.2965 - accuracy: 0.8691 - val_loss: 0.5644 - val_accuracy: 0.7416\n"
     ]
    }
   ],
   "source": [
    "model = tuner.hypermodel.build(best_hps)\n",
    "history = model.fit([q1_train, q2_train], yTrain,\n",
    "                    validation_split=0.2,\n",
    "                    epochs = best_epoch,\n",
    "                    batch_size = 2048,\n",
    ")"
   ],
   "metadata": {
    "collapsed": false,
    "pycharm": {
     "name": "#%%\n"
    }
   }
  },
  {
   "cell_type": "markdown",
   "source": [
    "#### Evaluierung des Modelles"
   ],
   "metadata": {
    "collapsed": false
   }
  },
  {
   "cell_type": "code",
   "execution_count": 32,
   "outputs": [
    {
     "name": "stdout",
     "output_type": "stream",
     "text": [
      "158/158 [==============================] - 4s 25ms/step - loss: 0.2914 - accuracy: 0.8789\n",
      "Trainings acc: 0.878903865814209\n",
      "40/40 [==============================] - 1s 21ms/step - loss: 0.5657 - accuracy: 0.7405\n",
      "Test acc: 0.7404956817626953\n"
     ]
    }
   ],
   "source": [
    "trainings_eval = model.evaluate([q1_train, q2_train], yTrain, batch_size=2048)\n",
    "print(f'Trainings acc: {trainings_eval[1]}')\n",
    "test_eval = model.evaluate([q1_valid, q2_valid], yValid, batch_size=2048)\n",
    "print(f'Test acc: {test_eval[1]}')"
   ],
   "metadata": {
    "collapsed": false,
    "pycharm": {
     "name": "#%%\n"
    }
   }
  },
  {
   "cell_type": "markdown",
   "source": [
    "Es ergibt sich, dass die Accuracy des Testdatensatzes ungefähr der Accuracy des Validierungsdatensatzes ähnelt.\n",
    "\n",
    "#### Bewertung der Ergebnisse des Modelles\n",
    "Durch die Erstellung des Modelles und der Evalierung des Modelles mit eigens gewählten Testdaten lässt sich die Theorie der mangelhafen Testdaten aus `test.csv` bestätigen.\n",
    "\n",
    "Es ist in der Tat davon auszugehen, das es sich bei der Kennzeichnung mit dem Label `1` für jede Fragenpaarung aus dem Testdatensatz um ein fehlerhafte Kennzeichnung handelt.\n",
    "Deshalb gilt nach wie vor, dass die Evaluierung des Testdatensatzes aus `test.csv` mit Skepsis zu betrachten ist.\n",
    "Die daraus gewonnene Accuracy ist daher nicht wirklich ausschlaggebend.\n",
    "\n"
   ],
   "metadata": {
    "collapsed": false
   }
  },
  {
   "cell_type": "markdown",
   "source": [
    "#### Laden des Modells, um ein erneutes Training zu verhindern"
   ],
   "metadata": {
    "collapsed": false
   }
  },
  {
   "cell_type": "code",
   "execution_count": 18,
   "outputs": [
    {
     "name": "stderr",
     "output_type": "stream",
     "text": [
      "2022-03-18 15:29:22.754377: I tensorflow/stream_executor/cuda/cuda_gpu_executor.cc:936] successful NUMA node read from SysFS had negative value (-1), but there must be at least one NUMA node, so returning NUMA node zero\n",
      "2022-03-18 15:29:22.845941: I tensorflow/stream_executor/cuda/cuda_gpu_executor.cc:936] successful NUMA node read from SysFS had negative value (-1), but there must be at least one NUMA node, so returning NUMA node zero\n",
      "2022-03-18 15:29:22.846135: I tensorflow/stream_executor/cuda/cuda_gpu_executor.cc:936] successful NUMA node read from SysFS had negative value (-1), but there must be at least one NUMA node, so returning NUMA node zero\n",
      "2022-03-18 15:29:22.847542: I tensorflow/core/platform/cpu_feature_guard.cc:151] This TensorFlow binary is optimized with oneAPI Deep Neural Network Library (oneDNN) to use the following CPU instructions in performance-critical operations:  AVX2 FMA\n",
      "To enable them in other operations, rebuild TensorFlow with the appropriate compiler flags.\n",
      "2022-03-18 15:29:22.848054: I tensorflow/stream_executor/cuda/cuda_gpu_executor.cc:936] successful NUMA node read from SysFS had negative value (-1), but there must be at least one NUMA node, so returning NUMA node zero\n",
      "2022-03-18 15:29:22.848219: I tensorflow/stream_executor/cuda/cuda_gpu_executor.cc:936] successful NUMA node read from SysFS had negative value (-1), but there must be at least one NUMA node, so returning NUMA node zero\n",
      "2022-03-18 15:29:22.848357: I tensorflow/stream_executor/cuda/cuda_gpu_executor.cc:936] successful NUMA node read from SysFS had negative value (-1), but there must be at least one NUMA node, so returning NUMA node zero\n",
      "2022-03-18 15:29:23.626927: I tensorflow/stream_executor/cuda/cuda_gpu_executor.cc:936] successful NUMA node read from SysFS had negative value (-1), but there must be at least one NUMA node, so returning NUMA node zero\n",
      "2022-03-18 15:29:23.627147: I tensorflow/stream_executor/cuda/cuda_gpu_executor.cc:936] successful NUMA node read from SysFS had negative value (-1), but there must be at least one NUMA node, so returning NUMA node zero\n",
      "2022-03-18 15:29:23.627325: I tensorflow/stream_executor/cuda/cuda_gpu_executor.cc:936] successful NUMA node read from SysFS had negative value (-1), but there must be at least one NUMA node, so returning NUMA node zero\n",
      "2022-03-18 15:29:23.628004: I tensorflow/core/common_runtime/gpu/gpu_device.cc:1525] Created device /job:localhost/replica:0/task:0/device:GPU:0 with 5741 MB memory:  -> device: 0, name: NVIDIA GeForce RTX 3060 Ti, pci bus id: 0000:23:00.0, compute capability: 8.6\n"
     ]
    }
   ],
   "source": [
    "model = tf.keras.models.load_model('./models/kaggle.h5')"
   ],
   "metadata": {
    "collapsed": false,
    "pycharm": {
     "name": "#%%\n"
    }
   }
  },
  {
   "cell_type": "code",
   "execution_count": null,
   "outputs": [],
   "source": [
    "def getPrediction(question1, question2):\n",
    "    test1 = tokenizer.texts_to_sequences(list([question1]))\n",
    "    test1 = pad_sequences(test1, maxlen = 36, padding = 'post')\n",
    "    test2 = tokenizer.texts_to_sequences(list([question2]))\n",
    "    test2 = pad_sequences(test2, maxlen = 36, padding = 'post')\n",
    "    predict = model.predict([test1, test2])\n",
    "    return predict\n"
   ],
   "metadata": {
    "collapsed": false,
    "pycharm": {
     "name": "#%%\n"
    }
   }
  },
  {
   "cell_type": "code",
   "execution_count": null,
   "outputs": [],
   "source": [
    "getPrediction(\"What was your first sexual experience like?\", \"What was your first sexual experience like?\")"
   ],
   "metadata": {
    "collapsed": false,
    "pycharm": {
     "name": "#%%\n"
    }
   }
  },
  {
   "cell_type": "markdown",
   "source": [
    "# Implementierung in ein Frontend\n",
    "## Erstellung einer Funktion, welche aus einer Benutzereingab 3 Fragen vorschlägt\n",
    "Im folgend erfolgt die Definition einer Funktion, welche ähnliche Fragen vorschlägt.\n",
    "Dabei wird neben der Frage des Benutzers das trainierte Model, sowie der Tokenizer und die Sammlung von Fragen aus den Trainingsdaten übergeben\n",
    "\n",
    "Anschließend wird für jede Frage aus dem gesammlten Fragenkatalog der Fragen aus `train.csv` der entsprechende \"Übereinstimmungs\"-Wert ermittelt.\n",
    "Die 5 Fragen mit dem höchsten Wert werden durch den Tokenizer zurück in den entsprechenden String umgewandelt, und anschließend als Rückgabe der Funktion zurückgegeben."
   ],
   "metadata": {
    "collapsed": false,
    "pycharm": {
     "name": "#%% md\n"
    }
   }
  },
  {
   "cell_type": "code",
   "execution_count": null,
   "outputs": [],
   "source": [
    "def getTopThreeQuestions(user_question):\n",
    "    found_questions = []\n",
    "    encoded_user_question = tokenizer.texts_to_sequences([user_question])\n",
    "    encoded_user_question = pad_sequences(encoded_user_question, maxlen = 36, padding = 'post')\n",
    "    something = np.asarray([encoded_user_question[0]]*len(completeQuestionsDict))\n",
    "    test = model.predict([something, completeQuestionsDict], batch_size = 4096, verbose = 1, use_multiprocessing = True)\n",
    "    print(np.sort(test.flatten()))\n",
    "    a = test.flatten()\n",
    "    ind = np.argpartition(a, -5)[-5:]\n",
    "    top3 = ind\n",
    "    print(top3)\n",
    "    for item in top3:\n",
    "        decoded_question = tokenizer.sequences_to_texts([completeQuestionsDict[item]])[0]\n",
    "        found_questions.append(decoded_question)\n",
    "    return found_questions"
   ],
   "metadata": {
    "collapsed": false,
    "pycharm": {
     "name": "#%%\n"
    }
   }
  },
  {
   "cell_type": "code",
   "execution_count": null,
   "outputs": [],
   "source": [
    "foundQuestions = getTopThreeQuestions(\"What was the significance of the battle of Somme, and how did this battle compare and contrast to the Battle of Rostov?\")\n",
    "for i, question in enumerate(foundQuestions):\n",
    "    print(f\"Question {i}\")\n",
    "    print(question)"
   ],
   "metadata": {
    "collapsed": false,
    "pycharm": {
     "name": "#%%\n"
    }
   }
  },
  {
   "cell_type": "markdown",
   "source": [
    "### Erstellung eines Webservers\n",
    "Es wurde ein Webserver mit einem einfachen Frontend erstellt. Dieser bekommt ein Frage, und schlägt daraufhin ähnliche Fragen vor"
   ],
   "metadata": {
    "collapsed": false
   }
  },
  {
   "cell_type": "code",
   "execution_count": null,
   "outputs": [],
   "source": [],
   "metadata": {
    "collapsed": false,
    "pycharm": {
     "name": "#%%\n"
    }
   }
  }
 ],
 "metadata": {
  "kernelspec": {
   "display_name": "Python 3",
   "language": "python",
   "name": "python3"
  },
  "language_info": {
   "codemirror_mode": {
    "name": "ipython",
    "version": 2
   },
   "file_extension": ".py",
   "mimetype": "text/x-python",
   "name": "python",
   "nbconvert_exporter": "python",
   "pygments_lexer": "ipython2",
   "version": "2.7.6"
  }
 },
 "nbformat": 4,
 "nbformat_minor": 0
}